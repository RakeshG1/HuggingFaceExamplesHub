{
 "cells": [
  {
   "cell_type": "markdown",
   "metadata": {},
   "source": [
    "### Import Libraries"
   ]
  },
  {
   "cell_type": "code",
   "execution_count": 117,
   "metadata": {},
   "outputs": [
    {
     "name": "stderr",
     "output_type": "stream",
     "text": [
      "[nltk_data] Downloading package punkt to\n",
      "[nltk_data]     C:\\Users\\rakes\\AppData\\Roaming\\nltk_data...\n",
      "[nltk_data]   Package punkt is already up-to-date!\n",
      "[nltk_data] Downloading package averaged_perceptron_tagger to\n",
      "[nltk_data]     C:\\Users\\rakes\\AppData\\Roaming\\nltk_data...\n",
      "[nltk_data]   Package averaged_perceptron_tagger is already up-to-\n",
      "[nltk_data]       date!\n",
      "[nltk_data] Downloading package stopwords to\n",
      "[nltk_data]     C:\\Users\\rakes\\AppData\\Roaming\\nltk_data...\n",
      "[nltk_data]   Package stopwords is already up-to-date!\n",
      "[nltk_data] Downloading package wordnet to\n",
      "[nltk_data]     C:\\Users\\rakes\\AppData\\Roaming\\nltk_data...\n",
      "[nltk_data]   Package wordnet is already up-to-date!\n"
     ]
    }
   ],
   "source": [
    "import pandas as pd\n",
    "import numpy as np\n",
    "import re\n",
    "import nltk\n",
    "import matplotlib.pyplot as plt\n",
    "import seaborn as sns\n",
    "import warnings\n",
    "from nltk.tokenize import word_tokenize\n",
    "from nltk import pos_tag\n",
    "from nltk.corpus import stopwords, wordnet\n",
    "from nltk.stem import PorterStemmer, WordNetLemmatizer\n",
    "from textblob import TextBlob\n",
    "from wordcloud import WordCloud\n",
    "from IPython.display import display, HTML\n",
    "\n",
    "# Loads pretrained models for tokenization\n",
    "nltk.download('punkt')\n",
    "# Loads pretrained models for part-of-speech tagging\n",
    "nltk.download('averaged_perceptron_tagger')\n",
    "# Stopwords are words that are frequently occurring in a language but do not carry significant meaning on their own in the context of text analysis, \n",
    "# such as \"the\", \"a\", \"an\", \"in\", \"on\", \"of\", etc. \n",
    "nltk.download(\"stopwords\")\n",
    "# WordNet is a lexical database designed to mimic the human lexical memory. It organizes English words into sets of Synonyms (Synsets), Antonyms, Hypernyms ...\n",
    "nltk.download('wordnet')\n",
    "\n",
    "warnings.filterwarnings(\"ignore\")\n",
    "%matplotlib inline"
   ]
  },
  {
   "cell_type": "markdown",
   "metadata": {},
   "source": [
    "<!--  -->"
   ]
  },
  {
   "cell_type": "markdown",
   "metadata": {},
   "source": [
    "### Sample Data"
   ]
  },
  {
   "cell_type": "code",
   "execution_count": 81,
   "metadata": {},
   "outputs": [],
   "source": [
    "df = pd.DataFrame({\"Restuarant_Reviews\": [\"Food taste is good :-)\", \n",
    "                                        \"Food taste is bad :-(\",\n",
    "                                        \"Food served late.\",\n",
    "                                        \"Food is good, but price is expensive.\", \n",
    "                                        \"Staff are not friendly\"]})"
   ]
  },
  {
   "cell_type": "code",
   "execution_count": 82,
   "metadata": {},
   "outputs": [
    {
     "data": {
      "text/html": [
       "<table border=\"1\" class=\"dataframe\">\n",
       "  <thead>\n",
       "    <tr style=\"text-align: right;\">\n",
       "      <th></th>\n",
       "      <th>Restuarant_Reviews</th>\n",
       "    </tr>\n",
       "  </thead>\n",
       "  <tbody>\n",
       "    <tr>\n",
       "      <th>0</th>\n",
       "      <td>Food taste is good :-)</td>\n",
       "    </tr>\n",
       "    <tr>\n",
       "      <th>1</th>\n",
       "      <td>Food taste is bad :-(</td>\n",
       "    </tr>\n",
       "    <tr>\n",
       "      <th>2</th>\n",
       "      <td>Food served late.</td>\n",
       "    </tr>\n",
       "    <tr>\n",
       "      <th>3</th>\n",
       "      <td>Food is good, but price is expensive.</td>\n",
       "    </tr>\n",
       "    <tr>\n",
       "      <th>4</th>\n",
       "      <td>Staff are not friendly</td>\n",
       "    </tr>\n",
       "  </tbody>\n",
       "</table>"
      ],
      "text/plain": [
       "<IPython.core.display.HTML object>"
      ]
     },
     "metadata": {},
     "output_type": "display_data"
    },
    {
     "name": "stdout",
     "output_type": "stream",
     "text": [
      "<class 'pandas.core.frame.DataFrame'>\n",
      "RangeIndex: 5 entries, 0 to 4\n",
      "Data columns (total 1 columns):\n",
      " #   Column              Non-Null Count  Dtype \n",
      "---  ------              --------------  ----- \n",
      " 0   Restuarant_Reviews  5 non-null      object\n",
      "dtypes: object(1)\n",
      "memory usage: 172.0+ bytes\n"
     ]
    }
   ],
   "source": [
    "display(HTML(df.to_html()))\n",
    "df.info()"
   ]
  },
  {
   "cell_type": "markdown",
   "metadata": {},
   "source": [
    "<!--  -->"
   ]
  },
  {
   "cell_type": "markdown",
   "metadata": {},
   "source": [
    "### Preprocessing"
   ]
  },
  {
   "cell_type": "markdown",
   "metadata": {},
   "source": [
    "<!--  -->"
   ]
  },
  {
   "cell_type": "markdown",
   "metadata": {},
   "source": [
    "#### Step 1: Removing Special Characters and Symbols from String"
   ]
  },
  {
   "cell_type": "code",
   "execution_count": 83,
   "metadata": {},
   "outputs": [
    {
     "data": {
      "text/html": [
       "<table border=\"1\" class=\"dataframe\">\n",
       "  <thead>\n",
       "    <tr style=\"text-align: right;\">\n",
       "      <th></th>\n",
       "      <th>Restuarant_Reviews</th>\n",
       "      <th>Cleaned_Data</th>\n",
       "    </tr>\n",
       "  </thead>\n",
       "  <tbody>\n",
       "    <tr>\n",
       "      <th>0</th>\n",
       "      <td>Food taste is good :-)</td>\n",
       "      <td>Food taste is good</td>\n",
       "    </tr>\n",
       "    <tr>\n",
       "      <th>1</th>\n",
       "      <td>Food taste is bad :-(</td>\n",
       "      <td>Food taste is bad</td>\n",
       "    </tr>\n",
       "    <tr>\n",
       "      <th>2</th>\n",
       "      <td>Food served late.</td>\n",
       "      <td>Food served late</td>\n",
       "    </tr>\n",
       "    <tr>\n",
       "      <th>3</th>\n",
       "      <td>Food is good, but price is expensive.</td>\n",
       "      <td>Food is good but price is expensive</td>\n",
       "    </tr>\n",
       "    <tr>\n",
       "      <th>4</th>\n",
       "      <td>Staff are not friendly</td>\n",
       "      <td>Staff are not friendly</td>\n",
       "    </tr>\n",
       "  </tbody>\n",
       "</table>"
      ],
      "text/plain": [
       "<IPython.core.display.HTML object>"
      ]
     },
     "metadata": {},
     "output_type": "display_data"
    },
    {
     "name": "stdout",
     "output_type": "stream",
     "text": [
      "<class 'pandas.core.frame.DataFrame'>\n",
      "RangeIndex: 5 entries, 0 to 4\n",
      "Data columns (total 2 columns):\n",
      " #   Column              Non-Null Count  Dtype \n",
      "---  ------              --------------  ----- \n",
      " 0   Restuarant_Reviews  5 non-null      object\n",
      " 1   Cleaned_Data        5 non-null      object\n",
      "dtypes: object(2)\n",
      "memory usage: 212.0+ bytes\n"
     ]
    }
   ],
   "source": [
    "def clean_text(text):\n",
    "    text = re.sub('[^A-Za-z]+', ' ', text)\n",
    "    return text\n",
    "\n",
    "df[\"Cleaned_Data\"] = df[\"Restuarant_Reviews\"].apply(clean_text)\n",
    "\n",
    "# Data Overview\n",
    "display(HTML(df.to_html()))\n",
    "df.info()"
   ]
  },
  {
   "cell_type": "markdown",
   "metadata": {},
   "source": [
    "<!--  -->"
   ]
  },
  {
   "cell_type": "markdown",
   "metadata": {},
   "source": [
    "#### Step 2: Tokenization\n",
    "- Tokenization is the process of breaking the text into smaller pieces called Tokens. \n",
    "- It can be performed at sentences(sentence tokenization) or word level(word tokenization)"
   ]
  },
  {
   "cell_type": "code",
   "execution_count": 84,
   "metadata": {},
   "outputs": [
    {
     "data": {
      "text/plain": [
       "['Food', 'taste', 'is', 'good']"
      ]
     },
     "execution_count": 84,
     "metadata": {},
     "output_type": "execute_result"
    }
   ],
   "source": [
    "sample_text = \"Food taste is good\"\n",
    "tokens = word_tokenize(sample_text)\n",
    "tokens"
   ]
  },
  {
   "cell_type": "code",
   "execution_count": 85,
   "metadata": {},
   "outputs": [
    {
     "data": {
      "text/html": [
       "<table border=\"1\" class=\"dataframe\">\n",
       "  <thead>\n",
       "    <tr style=\"text-align: right;\">\n",
       "      <th></th>\n",
       "      <th>Restuarant_Reviews</th>\n",
       "      <th>Cleaned_Data</th>\n",
       "      <th>Tokenized_Data</th>\n",
       "    </tr>\n",
       "  </thead>\n",
       "  <tbody>\n",
       "    <tr>\n",
       "      <th>0</th>\n",
       "      <td>Food taste is good :-)</td>\n",
       "      <td>Food taste is good</td>\n",
       "      <td>[Food, taste, is, good]</td>\n",
       "    </tr>\n",
       "    <tr>\n",
       "      <th>1</th>\n",
       "      <td>Food taste is bad :-(</td>\n",
       "      <td>Food taste is bad</td>\n",
       "      <td>[Food, taste, is, bad]</td>\n",
       "    </tr>\n",
       "    <tr>\n",
       "      <th>2</th>\n",
       "      <td>Food served late.</td>\n",
       "      <td>Food served late</td>\n",
       "      <td>[Food, served, late]</td>\n",
       "    </tr>\n",
       "    <tr>\n",
       "      <th>3</th>\n",
       "      <td>Food is good, but price is expensive.</td>\n",
       "      <td>Food is good but price is expensive</td>\n",
       "      <td>[Food, is, good, but, price, is, expensive]</td>\n",
       "    </tr>\n",
       "    <tr>\n",
       "      <th>4</th>\n",
       "      <td>Staff are not friendly</td>\n",
       "      <td>Staff are not friendly</td>\n",
       "      <td>[Staff, are, not, friendly]</td>\n",
       "    </tr>\n",
       "  </tbody>\n",
       "</table>"
      ],
      "text/plain": [
       "<IPython.core.display.HTML object>"
      ]
     },
     "metadata": {},
     "output_type": "display_data"
    },
    {
     "name": "stdout",
     "output_type": "stream",
     "text": [
      "<class 'pandas.core.frame.DataFrame'>\n",
      "RangeIndex: 5 entries, 0 to 4\n",
      "Data columns (total 3 columns):\n",
      " #   Column              Non-Null Count  Dtype \n",
      "---  ------              --------------  ----- \n",
      " 0   Restuarant_Reviews  5 non-null      object\n",
      " 1   Cleaned_Data        5 non-null      object\n",
      " 2   Tokenized_Data      5 non-null      object\n",
      "dtypes: object(3)\n",
      "memory usage: 252.0+ bytes\n"
     ]
    }
   ],
   "source": [
    "def tokenize(text):\n",
    "    text = word_tokenize(text)\n",
    "    return text\n",
    "\n",
    "df[\"Tokenized_Data\"] = df[\"Cleaned_Data\"].apply(tokenize)\n",
    "\n",
    "# Data Overview\n",
    "display(HTML(df.to_html()))\n",
    "df.info()"
   ]
  },
  {
   "cell_type": "markdown",
   "metadata": {},
   "source": [
    "<!--  -->"
   ]
  },
  {
   "cell_type": "markdown",
   "metadata": {},
   "source": [
    "#### Step 3: Stop Words Removal\n",
    "- Stopwords in English are words that carry very little useful information. \n",
    "- We need to remove them as part of text preprocessing. nltk has a list of stopwords of every language."
   ]
  },
  {
   "cell_type": "code",
   "execution_count": 86,
   "metadata": {},
   "outputs": [
    {
     "data": {
      "text/plain": [
       "['Food', 'taste', 'good']"
      ]
     },
     "execution_count": 86,
     "metadata": {},
     "output_type": "execute_result"
    }
   ],
   "source": [
    "[token for token in tokens if token.lower() not in stopwords.words(\"english\")]"
   ]
  },
  {
   "cell_type": "markdown",
   "metadata": {},
   "source": [
    "- `Handling Negation`\n",
    "    - For some reviews negation is important in order to make correct polarity i.e., sentiment analysis"
   ]
  },
  {
   "cell_type": "code",
   "execution_count": 87,
   "metadata": {},
   "outputs": [],
   "source": [
    "# Load the English stopwords\n",
    "stop_words_list = [x for x in stopwords.words('english') if x.lower() != \"not\"]\n",
    "# stop_words_list"
   ]
  },
  {
   "cell_type": "code",
   "execution_count": 88,
   "metadata": {},
   "outputs": [
    {
     "data": {
      "text/html": [
       "<table border=\"1\" class=\"dataframe\">\n",
       "  <thead>\n",
       "    <tr style=\"text-align: right;\">\n",
       "      <th></th>\n",
       "      <th>Restuarant_Reviews</th>\n",
       "      <th>Cleaned_Data</th>\n",
       "      <th>Tokenized_Data</th>\n",
       "      <th>Stop_Words_Removed_Data</th>\n",
       "    </tr>\n",
       "  </thead>\n",
       "  <tbody>\n",
       "    <tr>\n",
       "      <th>0</th>\n",
       "      <td>Food taste is good :-)</td>\n",
       "      <td>Food taste is good</td>\n",
       "      <td>[Food, taste, is, good]</td>\n",
       "      <td>[Food, taste, good]</td>\n",
       "    </tr>\n",
       "    <tr>\n",
       "      <th>1</th>\n",
       "      <td>Food taste is bad :-(</td>\n",
       "      <td>Food taste is bad</td>\n",
       "      <td>[Food, taste, is, bad]</td>\n",
       "      <td>[Food, taste, bad]</td>\n",
       "    </tr>\n",
       "    <tr>\n",
       "      <th>2</th>\n",
       "      <td>Food served late.</td>\n",
       "      <td>Food served late</td>\n",
       "      <td>[Food, served, late]</td>\n",
       "      <td>[Food, served, late]</td>\n",
       "    </tr>\n",
       "    <tr>\n",
       "      <th>3</th>\n",
       "      <td>Food is good, but price is expensive.</td>\n",
       "      <td>Food is good but price is expensive</td>\n",
       "      <td>[Food, is, good, but, price, is, expensive]</td>\n",
       "      <td>[Food, good, price, expensive]</td>\n",
       "    </tr>\n",
       "    <tr>\n",
       "      <th>4</th>\n",
       "      <td>Staff are not friendly</td>\n",
       "      <td>Staff are not friendly</td>\n",
       "      <td>[Staff, are, not, friendly]</td>\n",
       "      <td>[Staff, not, friendly]</td>\n",
       "    </tr>\n",
       "  </tbody>\n",
       "</table>"
      ],
      "text/plain": [
       "<IPython.core.display.HTML object>"
      ]
     },
     "metadata": {},
     "output_type": "display_data"
    },
    {
     "name": "stdout",
     "output_type": "stream",
     "text": [
      "<class 'pandas.core.frame.DataFrame'>\n",
      "RangeIndex: 5 entries, 0 to 4\n",
      "Data columns (total 4 columns):\n",
      " #   Column                   Non-Null Count  Dtype \n",
      "---  ------                   --------------  ----- \n",
      " 0   Restuarant_Reviews       5 non-null      object\n",
      " 1   Cleaned_Data             5 non-null      object\n",
      " 2   Tokenized_Data           5 non-null      object\n",
      " 3   Stop_Words_Removed_Data  5 non-null      object\n",
      "dtypes: object(4)\n",
      "memory usage: 292.0+ bytes\n"
     ]
    }
   ],
   "source": [
    "def remove_stop_words(text):\n",
    "    text = [token for token in text if token.lower() not in stop_words_list]\n",
    "    return text\n",
    "\n",
    "df[\"Stop_Words_Removed_Data\"] = df[\"Tokenized_Data\"].apply(remove_stop_words)\n",
    "\n",
    "# Data Overview\n",
    "display(HTML(df.to_html()))\n",
    "df.info()"
   ]
  },
  {
   "cell_type": "markdown",
   "metadata": {},
   "source": [
    "<!--  -->"
   ]
  },
  {
   "cell_type": "markdown",
   "metadata": {},
   "source": [
    "#### Step 4: Enrichment – POS tagging\n",
    "- Parts of Speech (POS) tagging is a process of converting each token into a tuple having the form (word, tag). \n",
    "- POS tagging essential to preserve the context of the word and is essential for Lemmatization."
   ]
  },
  {
   "cell_type": "code",
   "execution_count": 89,
   "metadata": {},
   "outputs": [
    {
     "data": {
      "text/plain": [
       "[('Food', 'NNP'), ('taste', 'NN'), ('is', 'VBZ'), ('good', 'JJ')]"
      ]
     },
     "execution_count": 89,
     "metadata": {},
     "output_type": "execute_result"
    }
   ],
   "source": [
    "pos = nltk.pos_tag(tokens)\n",
    "pos"
   ]
  },
  {
   "cell_type": "code",
   "execution_count": 90,
   "metadata": {},
   "outputs": [
    {
     "data": {
      "text/html": [
       "<table border=\"1\" class=\"dataframe\">\n",
       "  <thead>\n",
       "    <tr style=\"text-align: right;\">\n",
       "      <th></th>\n",
       "      <th>Restuarant_Reviews</th>\n",
       "      <th>Cleaned_Data</th>\n",
       "      <th>Tokenized_Data</th>\n",
       "      <th>Stop_Words_Removed_Data</th>\n",
       "      <th>POS_Tagged_Data</th>\n",
       "    </tr>\n",
       "  </thead>\n",
       "  <tbody>\n",
       "    <tr>\n",
       "      <th>0</th>\n",
       "      <td>Food taste is good :-)</td>\n",
       "      <td>Food taste is good</td>\n",
       "      <td>[Food, taste, is, good]</td>\n",
       "      <td>[Food, taste, good]</td>\n",
       "      <td>[(Food, NNP), (taste, NN), (good, NN)]</td>\n",
       "    </tr>\n",
       "    <tr>\n",
       "      <th>1</th>\n",
       "      <td>Food taste is bad :-(</td>\n",
       "      <td>Food taste is bad</td>\n",
       "      <td>[Food, taste, is, bad]</td>\n",
       "      <td>[Food, taste, bad]</td>\n",
       "      <td>[(Food, NNP), (taste, NN), (bad, JJ)]</td>\n",
       "    </tr>\n",
       "    <tr>\n",
       "      <th>2</th>\n",
       "      <td>Food served late.</td>\n",
       "      <td>Food served late</td>\n",
       "      <td>[Food, served, late]</td>\n",
       "      <td>[Food, served, late]</td>\n",
       "      <td>[(Food, NNP), (served, VBD), (late, JJ)]</td>\n",
       "    </tr>\n",
       "    <tr>\n",
       "      <th>3</th>\n",
       "      <td>Food is good, but price is expensive.</td>\n",
       "      <td>Food is good but price is expensive</td>\n",
       "      <td>[Food, is, good, but, price, is, expensive]</td>\n",
       "      <td>[Food, good, price, expensive]</td>\n",
       "      <td>[(Food, NNP), (good, JJ), (price, NN), (expensive, NN)]</td>\n",
       "    </tr>\n",
       "    <tr>\n",
       "      <th>4</th>\n",
       "      <td>Staff are not friendly</td>\n",
       "      <td>Staff are not friendly</td>\n",
       "      <td>[Staff, are, not, friendly]</td>\n",
       "      <td>[Staff, not, friendly]</td>\n",
       "      <td>[(Staff, NNP), (not, RB), (friendly, RB)]</td>\n",
       "    </tr>\n",
       "  </tbody>\n",
       "</table>"
      ],
      "text/plain": [
       "<IPython.core.display.HTML object>"
      ]
     },
     "metadata": {},
     "output_type": "display_data"
    },
    {
     "name": "stdout",
     "output_type": "stream",
     "text": [
      "<class 'pandas.core.frame.DataFrame'>\n",
      "RangeIndex: 5 entries, 0 to 4\n",
      "Data columns (total 5 columns):\n",
      " #   Column                   Non-Null Count  Dtype \n",
      "---  ------                   --------------  ----- \n",
      " 0   Restuarant_Reviews       5 non-null      object\n",
      " 1   Cleaned_Data             5 non-null      object\n",
      " 2   Tokenized_Data           5 non-null      object\n",
      " 3   Stop_Words_Removed_Data  5 non-null      object\n",
      " 4   POS_Tagged_Data          5 non-null      object\n",
      "dtypes: object(5)\n",
      "memory usage: 332.0+ bytes\n"
     ]
    }
   ],
   "source": [
    "def pos_tagging(text):\n",
    "    text = nltk.pos_tag(text)\n",
    "    return text\n",
    "\n",
    "df[\"POS_Tagged_Data\"] = df[\"Stop_Words_Removed_Data\"].apply(pos_tagging)\n",
    "\n",
    "# Data Overview\n",
    "display(HTML(df.to_html()))\n",
    "df.info()"
   ]
  },
  {
   "cell_type": "markdown",
   "metadata": {},
   "source": [
    "<!--  -->"
   ]
  },
  {
   "cell_type": "markdown",
   "metadata": {},
   "source": [
    "#### Step 5: Obtaining the stem words\n",
    "- A stem is a part of a word responsible for its lexical meaning. \n",
    "- The two popular techniques of obtaining the root/stem words are \n",
    "  - Stemming\n",
    "  - Lemmatization.\n",
    "- The key difference is Stemming often gives some meaningless root words as it simply chops off some characters in the end.\n",
    "- Lemmatization gives meaningful root words, however, it requires POS tags of the words"
   ]
  },
  {
   "cell_type": "code",
   "execution_count": 91,
   "metadata": {},
   "outputs": [
    {
     "data": {
      "text/plain": [
       "['Food', 'taste', 'good']"
      ]
     },
     "execution_count": 91,
     "metadata": {},
     "output_type": "execute_result"
    }
   ],
   "source": [
    "sample_tokens = [\"Food\", \"taste\", \"good\"]\n",
    "sample_tokens"
   ]
  },
  {
   "cell_type": "markdown",
   "metadata": {},
   "source": [
    "- `Stemming`"
   ]
  },
  {
   "cell_type": "code",
   "execution_count": 92,
   "metadata": {},
   "outputs": [
    {
     "data": {
      "text/plain": [
       "['food', 'tast', 'good']"
      ]
     },
     "execution_count": 92,
     "metadata": {},
     "output_type": "execute_result"
    }
   ],
   "source": [
    "# Intialise\n",
    "stemmer = PorterStemmer()\n",
    "\n",
    "# Stemming\n",
    "tokens_with_stems = [stemmer.stem(token) for token in sample_tokens]\n",
    "tokens_with_stems\n"
   ]
  },
  {
   "cell_type": "markdown",
   "metadata": {},
   "source": [
    "- `Lemmatization`"
   ]
  },
  {
   "cell_type": "code",
   "execution_count": 93,
   "metadata": {},
   "outputs": [
    {
     "data": {
      "text/plain": [
       "'Food'"
      ]
     },
     "execution_count": 93,
     "metadata": {},
     "output_type": "execute_result"
    }
   ],
   "source": [
    "# POS tagger dictionary\n",
    "pos_map = {\n",
    "    'NN': wordnet.NOUN,\n",
    "    'NNP': wordnet.NOUN,\n",
    "    'VBD': wordnet.VERB,\n",
    "    'JJ': wordnet.ADJ,\n",
    "    'RB': wordnet.ADV,\n",
    "}\n",
    "\n",
    "# Intialize\n",
    "lemmatizer = WordNetLemmatizer()\n",
    "\n",
    "# Lemmatization\n",
    "lemmatizer.lemmatize(\"Food\", wordnet.NOUN)"
   ]
  },
  {
   "cell_type": "code",
   "execution_count": 94,
   "metadata": {},
   "outputs": [
    {
     "data": {
      "text/html": [
       "<table border=\"1\" class=\"dataframe\">\n",
       "  <thead>\n",
       "    <tr style=\"text-align: right;\">\n",
       "      <th></th>\n",
       "      <th>Restuarant_Reviews</th>\n",
       "      <th>Cleaned_Data</th>\n",
       "      <th>Tokenized_Data</th>\n",
       "      <th>Stop_Words_Removed_Data</th>\n",
       "      <th>POS_Tagged_Data</th>\n",
       "      <th>Lemmatised_Data</th>\n",
       "    </tr>\n",
       "  </thead>\n",
       "  <tbody>\n",
       "    <tr>\n",
       "      <th>0</th>\n",
       "      <td>Food taste is good :-)</td>\n",
       "      <td>Food taste is good</td>\n",
       "      <td>[Food, taste, is, good]</td>\n",
       "      <td>[Food, taste, good]</td>\n",
       "      <td>[(Food, NNP), (taste, NN), (good, NN)]</td>\n",
       "      <td>Food taste good</td>\n",
       "    </tr>\n",
       "    <tr>\n",
       "      <th>1</th>\n",
       "      <td>Food taste is bad :-(</td>\n",
       "      <td>Food taste is bad</td>\n",
       "      <td>[Food, taste, is, bad]</td>\n",
       "      <td>[Food, taste, bad]</td>\n",
       "      <td>[(Food, NNP), (taste, NN), (bad, JJ)]</td>\n",
       "      <td>Food taste bad</td>\n",
       "    </tr>\n",
       "    <tr>\n",
       "      <th>2</th>\n",
       "      <td>Food served late.</td>\n",
       "      <td>Food served late</td>\n",
       "      <td>[Food, served, late]</td>\n",
       "      <td>[Food, served, late]</td>\n",
       "      <td>[(Food, NNP), (served, VBD), (late, JJ)]</td>\n",
       "      <td>Food serve late</td>\n",
       "    </tr>\n",
       "    <tr>\n",
       "      <th>3</th>\n",
       "      <td>Food is good, but price is expensive.</td>\n",
       "      <td>Food is good but price is expensive</td>\n",
       "      <td>[Food, is, good, but, price, is, expensive]</td>\n",
       "      <td>[Food, good, price, expensive]</td>\n",
       "      <td>[(Food, NNP), (good, JJ), (price, NN), (expensive, NN)]</td>\n",
       "      <td>Food good price expensive</td>\n",
       "    </tr>\n",
       "    <tr>\n",
       "      <th>4</th>\n",
       "      <td>Staff are not friendly</td>\n",
       "      <td>Staff are not friendly</td>\n",
       "      <td>[Staff, are, not, friendly]</td>\n",
       "      <td>[Staff, not, friendly]</td>\n",
       "      <td>[(Staff, NNP), (not, RB), (friendly, RB)]</td>\n",
       "      <td>Staff not friendly</td>\n",
       "    </tr>\n",
       "  </tbody>\n",
       "</table>"
      ],
      "text/plain": [
       "<IPython.core.display.HTML object>"
      ]
     },
     "metadata": {},
     "output_type": "display_data"
    },
    {
     "name": "stdout",
     "output_type": "stream",
     "text": [
      "<class 'pandas.core.frame.DataFrame'>\n",
      "RangeIndex: 5 entries, 0 to 4\n",
      "Data columns (total 6 columns):\n",
      " #   Column                   Non-Null Count  Dtype \n",
      "---  ------                   --------------  ----- \n",
      " 0   Restuarant_Reviews       5 non-null      object\n",
      " 1   Cleaned_Data             5 non-null      object\n",
      " 2   Tokenized_Data           5 non-null      object\n",
      " 3   Stop_Words_Removed_Data  5 non-null      object\n",
      " 4   POS_Tagged_Data          5 non-null      object\n",
      " 5   Lemmatised_Data          5 non-null      object\n",
      "dtypes: object(6)\n",
      "memory usage: 372.0+ bytes\n"
     ]
    }
   ],
   "source": [
    "def lemmatize(data):\n",
    "    lemmatited_tokens = []\n",
    "    for word, pos_tag in data:\n",
    "        # print(word, pos_tag)\n",
    "        wordnet_pos = pos_map.get(pos_tag, wordnet.NOUN) # Default to NOUN if POS tag not in map\n",
    "        lemmatized_word = lemmatizer.lemmatize(word, pos=wordnet_pos)\n",
    "        lemmatited_tokens.append(lemmatized_word)\n",
    "    # print(lemmatited_tokens)\n",
    "    return \" \".join(lemmatited_tokens)\n",
    "        \n",
    "df[\"Lemmatised_Data\"] = df[\"POS_Tagged_Data\"].apply(lemmatize)        \n",
    "\n",
    "# Data Overview\n",
    "display(HTML(df.to_html()))\n",
    "df.info()"
   ]
  },
  {
   "cell_type": "markdown",
   "metadata": {},
   "source": [
    "stem -->  ['food', 'tast', 'good']\n",
    "\n",
    "lemma -->  ['Food', 'taste', 'good']\n",
    "\n",
    "- Observation\n",
    "  - lemma making correct finding of stem words"
   ]
  },
  {
   "cell_type": "markdown",
   "metadata": {},
   "source": [
    "<!--  -->"
   ]
  },
  {
   "cell_type": "markdown",
   "metadata": {},
   "source": [
    "### Sentiment Prediction [Text Blob]\n",
    "- TextBlob is a Python library for processing textual data. \n",
    "- It provides a consistent API for diving into common natural language processing (NLP) tasks such as part-of-speech tagging, noun phrase extraction, sentiment analysis, and more.\n",
    "- The two measures that are used to analyze the sentiment are:\n",
    "  - `Polarity` – talks about how positive or negative the opinion is\n",
    "  - `Subjectivity` – talks about how subjective the opinion is TextBlob(text).sentiment gives us the Polarity, Subjectivity values.\n",
    "  - Polarity ranges from -1 to 1 (1 is more positive, 0 is neutral, -1 is more negative)\n",
    "  - Subjectivity ranges from 0 to 1(0 being very objective and 1 being very subjective)"
   ]
  },
  {
   "cell_type": "code",
   "execution_count": 95,
   "metadata": {},
   "outputs": [
    {
     "data": {
      "text/plain": [
       "Sentiment(polarity=0.7, subjectivity=0.6000000000000001)"
      ]
     },
     "execution_count": 95,
     "metadata": {},
     "output_type": "execute_result"
    }
   ],
   "source": [
    "TextBlob(\"Food taste good\").sentiment"
   ]
  },
  {
   "cell_type": "code",
   "execution_count": 98,
   "metadata": {},
   "outputs": [],
   "source": [
    "# Sentiment Score Using : Polarity & Subjectivity\n",
    "def get_subjectivity_score(text):\n",
    "    return TextBlob(text).sentiment.subjectivity\n",
    "\n",
    "def get_polarity_score(text):\n",
    "    return TextBlob(text).sentiment.polarity\n",
    "\n",
    "def get_sentiment_score(score):\n",
    "    if score < 0:\n",
    "        return \"Negative\"\n",
    "    elif (score > 0) and (score < 0.3):\n",
    "        return \"Neutral\"\n",
    "    else:\n",
    "        return \"Positive\""
   ]
  },
  {
   "cell_type": "code",
   "execution_count": 100,
   "metadata": {},
   "outputs": [
    {
     "data": {
      "text/html": [
       "<table border=\"1\" class=\"dataframe\">\n",
       "  <thead>\n",
       "    <tr style=\"text-align: right;\">\n",
       "      <th></th>\n",
       "      <th>Restuarant_Reviews</th>\n",
       "      <th>Cleaned_Data</th>\n",
       "      <th>Tokenized_Data</th>\n",
       "      <th>Stop_Words_Removed_Data</th>\n",
       "      <th>POS_Tagged_Data</th>\n",
       "      <th>Lemmatised_Data</th>\n",
       "      <th>Subjectivity</th>\n",
       "      <th>Polarity</th>\n",
       "      <th>Sentiment_Prediction</th>\n",
       "    </tr>\n",
       "  </thead>\n",
       "  <tbody>\n",
       "    <tr>\n",
       "      <th>0</th>\n",
       "      <td>Food taste is good :-)</td>\n",
       "      <td>Food taste is good</td>\n",
       "      <td>[Food, taste, is, good]</td>\n",
       "      <td>[Food, taste, good]</td>\n",
       "      <td>[(Food, NNP), (taste, NN), (good, NN)]</td>\n",
       "      <td>Food taste good</td>\n",
       "      <td>0.600000</td>\n",
       "      <td>0.7000</td>\n",
       "      <td>Positive</td>\n",
       "    </tr>\n",
       "    <tr>\n",
       "      <th>1</th>\n",
       "      <td>Food taste is bad :-(</td>\n",
       "      <td>Food taste is bad</td>\n",
       "      <td>[Food, taste, is, bad]</td>\n",
       "      <td>[Food, taste, bad]</td>\n",
       "      <td>[(Food, NNP), (taste, NN), (bad, JJ)]</td>\n",
       "      <td>Food taste bad</td>\n",
       "      <td>0.666667</td>\n",
       "      <td>-0.7000</td>\n",
       "      <td>Negative</td>\n",
       "    </tr>\n",
       "    <tr>\n",
       "      <th>2</th>\n",
       "      <td>Food served late.</td>\n",
       "      <td>Food served late</td>\n",
       "      <td>[Food, served, late]</td>\n",
       "      <td>[Food, served, late]</td>\n",
       "      <td>[(Food, NNP), (served, VBD), (late, JJ)]</td>\n",
       "      <td>Food serve late</td>\n",
       "      <td>0.600000</td>\n",
       "      <td>-0.3000</td>\n",
       "      <td>Negative</td>\n",
       "    </tr>\n",
       "    <tr>\n",
       "      <th>3</th>\n",
       "      <td>Food is good, but price is expensive.</td>\n",
       "      <td>Food is good but price is expensive</td>\n",
       "      <td>[Food, is, good, but, price, is, expensive]</td>\n",
       "      <td>[Food, good, price, expensive]</td>\n",
       "      <td>[(Food, NNP), (good, JJ), (price, NN), (expensive, NN)]</td>\n",
       "      <td>Food good price expensive</td>\n",
       "      <td>0.650000</td>\n",
       "      <td>0.1000</td>\n",
       "      <td>Neutral</td>\n",
       "    </tr>\n",
       "    <tr>\n",
       "      <th>4</th>\n",
       "      <td>Staff are not friendly</td>\n",
       "      <td>Staff are not friendly</td>\n",
       "      <td>[Staff, are, not, friendly]</td>\n",
       "      <td>[Staff, not, friendly]</td>\n",
       "      <td>[(Staff, NNP), (not, RB), (friendly, RB)]</td>\n",
       "      <td>Staff not friendly</td>\n",
       "      <td>0.500000</td>\n",
       "      <td>-0.1875</td>\n",
       "      <td>Negative</td>\n",
       "    </tr>\n",
       "  </tbody>\n",
       "</table>"
      ],
      "text/plain": [
       "<IPython.core.display.HTML object>"
      ]
     },
     "metadata": {},
     "output_type": "display_data"
    }
   ],
   "source": [
    "df[\"Subjectivity\"] = df[\"Lemmatised_Data\"].apply(get_subjectivity_score)\n",
    "df[\"Polarity\"] = df[\"Lemmatised_Data\"].apply(get_polarity_score)\n",
    "df[\"Sentiment_Prediction\"] = df[\"Polarity\"].apply(get_sentiment_score)\n",
    "\n",
    "# Data Overview\n",
    "display(HTML(df.to_html()))"
   ]
  },
  {
   "cell_type": "code",
   "execution_count": 101,
   "metadata": {},
   "outputs": [
    {
     "data": {
      "text/html": [
       "<table border=\"1\" class=\"dataframe\">\n",
       "  <thead>\n",
       "    <tr style=\"text-align: right;\">\n",
       "      <th></th>\n",
       "      <th>Sentiment_Prediction</th>\n",
       "      <th>count</th>\n",
       "    </tr>\n",
       "  </thead>\n",
       "  <tbody>\n",
       "    <tr>\n",
       "      <th>0</th>\n",
       "      <td>Negative</td>\n",
       "      <td>3</td>\n",
       "    </tr>\n",
       "    <tr>\n",
       "      <th>1</th>\n",
       "      <td>Positive</td>\n",
       "      <td>1</td>\n",
       "    </tr>\n",
       "    <tr>\n",
       "      <th>2</th>\n",
       "      <td>Neutral</td>\n",
       "      <td>1</td>\n",
       "    </tr>\n",
       "  </tbody>\n",
       "</table>"
      ],
      "text/plain": [
       "<IPython.core.display.HTML object>"
      ]
     },
     "metadata": {},
     "output_type": "display_data"
    }
   ],
   "source": [
    "df_value_counts = df.Sentiment_Prediction.value_counts().reset_index()\n",
    "\n",
    "display(HTML(df_value_counts.to_html()))"
   ]
  },
  {
   "cell_type": "code",
   "execution_count": 115,
   "metadata": {},
   "outputs": [
    {
     "data": {
      "image/png": "[encoded data removed]",
      "text/plain": [
       "<Figure size 1200x600 with 1 Axes>"
      ]
     },
     "metadata": {},
     "output_type": "display_data"
    }
   ],
   "source": [
    "# Unique classes\n",
    "categories = df_value_counts.Sentiment_Prediction.unique()\n",
    "\n",
    "# Colors per class\n",
    "# colors = plt.cm.get_cmap('viridis', len(categories)).colors\n",
    "colors = {\"Negative\":\"red\", \"Positive\":\"green\", \"Neutral\":\"blue\"}\n",
    "\n",
    "sns.set_style(\"darkgrid\")\n",
    "fig, axes = plt.subplots(nrows=1, ncols=1, figsize=(12, 6))\n",
    "sns.barplot(x=\"Sentiment_Prediction\", y=\"count\", data=df_value_counts, ax=axes, palette=colors)\n",
    "\n",
    "plt.xlabel(\"Sentiment Prediction\", fontsize=14)\n",
    "plt.ylabel(\"Count\", fontsize=14)\n",
    "plt.title(\"Restaurant Reviews: Sentiment Prediction\", fontsize=16)\n",
    "\n",
    "# plt.legend(categories)\n",
    "plt.tight_layout()\n",
    "plt.grid(True)\n",
    "plt.show()"
   ]
  },
  {
   "cell_type": "code",
   "execution_count": 122,
   "metadata": {},
   "outputs": [
    {
     "data": {
      "image/png": "[encoded data removed]",
      "text/plain": [
       "<Figure size 1000x500 with 1 Axes>"
      ]
     },
     "metadata": {},
     "output_type": "display_data"
    }
   ],
   "source": [
    "# Combine all lemmatized text into a single string\n",
    "text = ' '.join(df['Lemmatised_Data'].tolist())\n",
    "\n",
    "# Generate the word cloud\n",
    "wordcloud = WordCloud(width=800, height=400, background_color='white').generate(text)\n",
    "\n",
    "# Plot the word cloud\n",
    "plt.figure(figsize=(10, 5))\n",
    "plt.imshow(wordcloud, interpolation='bilinear')\n",
    "plt.axis('off')\n",
    "plt.show()"
   ]
  }
 ],
 "metadata": {
  "kernelspec": {
   "display_name": "data_science_env",
   "language": "python",
   "name": "python3"
  },
  "language_info": {
   "codemirror_mode": {
    "name": "ipython",
    "version": 3
   },
   "file_extension": ".py",
   "mimetype": "text/x-python",
   "name": "python",
   "nbconvert_exporter": "python",
   "pygments_lexer": "ipython3",
   "version": "3.11.9"
  }
 },
 "nbformat": 4,
 "nbformat_minor": 2
}
